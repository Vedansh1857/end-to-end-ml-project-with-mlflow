{
 "cells": [
  {
   "cell_type": "code",
   "execution_count": 1,
   "metadata": {},
   "outputs": [
    {
     "data": {
      "text/plain": [
       "'d:\\\\end-to-end-ml-project-with-mlflow\\\\research'"
      ]
     },
     "execution_count": 1,
     "metadata": {},
     "output_type": "execute_result"
    }
   ],
   "source": [
    "import os\n",
    "%pwd"
   ]
  },
  {
   "cell_type": "code",
   "execution_count": 2,
   "metadata": {},
   "outputs": [
    {
     "data": {
      "text/plain": [
       "'d:\\\\end-to-end-ml-project-with-mlflow'"
      ]
     },
     "execution_count": 2,
     "metadata": {},
     "output_type": "execute_result"
    }
   ],
   "source": [
    "os.chdir(\"../\")\n",
    "%pwd"
   ]
  },
  {
   "cell_type": "code",
   "execution_count": 3,
   "metadata": {},
   "outputs": [],
   "source": [
    "from dataclasses import dataclass\n",
    "from pathlib import Path\n",
    "\n",
    "@dataclass(frozen=True)\n",
    "class DataTransformationConfig():\n",
    "    root_dir:Path\n",
    "    data_path:Path"
   ]
  },
  {
   "cell_type": "code",
   "execution_count": 4,
   "metadata": {},
   "outputs": [],
   "source": [
    "from mlProject.constants import *\n",
    "from mlProject.utils.common import read_yaml, create_directories"
   ]
  },
  {
   "cell_type": "code",
   "execution_count": 5,
   "metadata": {},
   "outputs": [],
   "source": [
    "class ConfigurationManager():\n",
    "    def __init__(self,config_filepath=CONFIG_FILE_PATH,schema_filepath=SCHEMA_FILE_PATH,params_filepath=PARAMS_FILE_PATH):\n",
    "        self.config = read_yaml(config_filepath)\n",
    "        self.schema = read_yaml(schema_filepath)\n",
    "        self.params = read_yaml(params_filepath)\n",
    "\n",
    "        create_directories([self.config.artifacts_root])\n",
    "\n",
    "    def get_data_transformation_config(self) -> DataTransformationConfig:\n",
    "        config = self.config.data_transformation\n",
    "\n",
    "        create_directories([config.root_dir])\n",
    "\n",
    "        data_transformation_config = DataTransformationConfig(\n",
    "            root_dir=config.root_dir,\n",
    "            data_path=config.data_path\n",
    "        )\n",
    "\n",
    "        return data_transformation_config"
   ]
  },
  {
   "cell_type": "code",
   "execution_count": 6,
   "metadata": {},
   "outputs": [],
   "source": [
    "from mlProject import logger\n",
    "from sklearn.model_selection import train_test_split\n",
    "import os\n",
    "import pandas as pd\n",
    "import numpy as np\n",
    "from sklearn.impute import SimpleImputer\n",
    "from sklearn.pipeline import Pipeline\n",
    "from sklearn.utils import resample\n",
    "from sklearn.preprocessing import StandardScaler"
   ]
  },
  {
   "cell_type": "code",
   "execution_count": 7,
   "metadata": {},
   "outputs": [],
   "source": [
    "class DataTransformation():\n",
    "    def __init__(self,config:DataTransformationConfig):\n",
    "        self.config = config\n",
    "\n",
    "    def train_test_splitting(self):\n",
    "        \n",
    "        data = pd.read_csv(self.config.data_path)\n",
    "\n",
    "        # Treating outliers below...\n",
    "        def log_transform(col):\n",
    "            return np.log(col[0])\n",
    "\n",
    "        data['residual sugar'] = data[['residual sugar']].apply(log_transform, axis=1)\n",
    "        data['chlorides'] = data[['chlorides']].apply(log_transform, axis=1)\n",
    "        data['free sulfur dioxide'] = data[['free sulfur dioxide']].apply(log_transform, axis=1)\n",
    "        data['total sulfur dioxide'] = data[['total sulfur dioxide']].apply(log_transform, axis=1)\n",
    "        data['sulphates'] = data[['sulphates']].apply(log_transform, axis=1)\n",
    "\n",
    "        # Handling imbalanced dataset below...\n",
    "        df_3 = data[data.quality==3]     # MINORITY\n",
    "        df_4 = data[data.quality==4]     # MINORITY\n",
    "        df_5 = data[data.quality==5]     # MAJORITY\n",
    "        df_6 = data[data.quality==6]     # MAJORITY\n",
    "        df_7 = data[data.quality==7]     # MINORITY\n",
    "        df_8 = data[data.quality==8]     # MINORITY\n",
    "\n",
    "        # Oversample MINORITY Class to make balance data :\n",
    "        df_3_upsampled = resample(df_3, replace=True, n_samples=600, random_state=12) \n",
    "        df_4_upsampled = resample(df_4, replace=True, n_samples=600, random_state=12) \n",
    "        df_7_upsampled = resample(df_7, replace=True, n_samples=600, random_state=12) \n",
    "        df_8_upsampled = resample(df_8, replace=True, n_samples=600, random_state=12) \n",
    "        # Decreases the rows of Majority one's to make balance data :\n",
    "        df_5_downsampled = data[data.quality==5].sample(n=600).reset_index(drop=True)\n",
    "        df_6_downsampled = data[data.quality==6].sample(n=600).reset_index(drop=True)\n",
    "        # Combine downsampled majority class with upsampled minority class\n",
    "        Balanced_df = pd.concat([df_3_upsampled, df_4_upsampled, df_7_upsampled, df_8_upsampled, df_5_downsampled, df_6_downsampled]).reset_index(drop=True) \n",
    "\n",
    "        train, test = train_test_split(Balanced_df,test_size=0.2,random_state=42)\n",
    "        \n",
    "        train.to_csv(os.path.join(self.config.root_dir, \"train.csv\"),index=False,header=True)\n",
    "        test.to_csv(os.path.join(self.config.root_dir, \"test.csv\"),index=False,header=True)\n",
    "\n",
    "        print(train.head())\n",
    "        print(test.head())\n",
    "\n",
    "        num_pipeline= Pipeline(\n",
    "            steps=[\n",
    "            (\"imputer\",SimpleImputer(strategy=\"median\")),\n",
    "            (\"scaler\",StandardScaler())\n",
    "\n",
    "            ]\n",
    "        )\n",
    "\n",
    "        target_column_name=\"quality\"\n",
    "        numerical_columns = ['fixed acidity', 'volatile acidity', 'citric acid', 'residual sugar',\n",
    "            'chlorides', 'free sulfur dioxide', 'total sulfur dioxide', 'density',\n",
    "            'pH', 'sulphates', 'alcohol', 'quality']\n",
    "\n",
    "        input_feature_train_df=train.drop(columns=[target_column_name],axis=1)\n",
    "        target_feature_train_df=train[target_column_name]\n",
    "\n",
    "        input_feature_test_df=test.drop(columns=[target_column_name],axis=1)\n",
    "        target_feature_test_df=test[target_column_name]\n",
    "\n",
    "        logger.info(\n",
    "            f\"Applying preprocessing object on training dataframe and testing dataframe.\"\n",
    "        )\n",
    "\n",
    "        input_feature_train_arr=num_pipeline.fit_transform(input_feature_train_df)\n",
    "        input_feature_test_arr=num_pipeline.transform(input_feature_test_df)\n",
    "\n",
    "        train_arr = np.c_[input_feature_train_arr, np.array(target_feature_train_df)]\n",
    "        test_arr = np.c_[input_feature_test_arr, np.array(target_feature_test_df)]\n",
    "\n",
    "\n",
    "        logger.info(\"Splitted the data into test & training data\")\n",
    "        logger.info(f\"Shape of the training data is : {train.shape}\")\n",
    "        logger.info(f\"Shape of the test data is : {test.shape}\")\n",
    "\n",
    "        print(train.shape)\n",
    "        print(test.shape)\n",
    "\n",
    "        return(\n",
    "            train_arr,\n",
    "            test_arr,\n",
    "        )"
   ]
  },
  {
   "cell_type": "code",
   "execution_count": 8,
   "metadata": {},
   "outputs": [
    {
     "name": "stdout",
     "output_type": "stream",
     "text": [
      "[2023-12-11 00:44:05,169: INFO: common: yaml file: config\\config.yaml loaded successfully]\n",
      "[2023-12-11 00:44:05,169: INFO: common: yaml file: schema.yaml loaded successfully]\n",
      "[2023-12-11 00:44:05,169: INFO: common: yaml file: params.yaml loaded successfully]\n",
      "[2023-12-11 00:44:05,181: INFO: common: created directory at: artifacts]\n",
      "[2023-12-11 00:44:05,181: INFO: common: created directory at: artifacts/data_transformation]\n"
     ]
    },
    {
     "name": "stderr",
     "output_type": "stream",
     "text": [
      "C:\\Users\\vedan\\AppData\\Local\\Temp\\ipykernel_11680\\203955527.py:11: FutureWarning: Series.__getitem__ treating keys as positions is deprecated. In a future version, integer keys will always be treated as labels (consistent with DataFrame behavior). To access a value by position, use `ser.iloc[pos]`\n",
      "  return np.log(col[0])\n",
      "C:\\Users\\vedan\\AppData\\Local\\Temp\\ipykernel_11680\\203955527.py:11: FutureWarning: Series.__getitem__ treating keys as positions is deprecated. In a future version, integer keys will always be treated as labels (consistent with DataFrame behavior). To access a value by position, use `ser.iloc[pos]`\n",
      "  return np.log(col[0])\n",
      "C:\\Users\\vedan\\AppData\\Local\\Temp\\ipykernel_11680\\203955527.py:11: FutureWarning: Series.__getitem__ treating keys as positions is deprecated. In a future version, integer keys will always be treated as labels (consistent with DataFrame behavior). To access a value by position, use `ser.iloc[pos]`\n",
      "  return np.log(col[0])\n",
      "C:\\Users\\vedan\\AppData\\Local\\Temp\\ipykernel_11680\\203955527.py:11: FutureWarning: Series.__getitem__ treating keys as positions is deprecated. In a future version, integer keys will always be treated as labels (consistent with DataFrame behavior). To access a value by position, use `ser.iloc[pos]`\n",
      "  return np.log(col[0])\n",
      "C:\\Users\\vedan\\AppData\\Local\\Temp\\ipykernel_11680\\203955527.py:11: FutureWarning: Series.__getitem__ treating keys as positions is deprecated. In a future version, integer keys will always be treated as labels (consistent with DataFrame behavior). To access a value by position, use `ser.iloc[pos]`\n",
      "  return np.log(col[0])\n"
     ]
    },
    {
     "name": "stdout",
     "output_type": "stream",
     "text": [
      "      fixed acidity  volatile acidity  citric acid  residual sugar  chlorides  \\\n",
      "3281            7.5             0.310         0.41        0.875469  -2.733368   \n",
      "2383            7.9             0.350         0.46        1.280934  -2.551046   \n",
      "2009           10.7             0.350         0.53        0.955511  -2.659260   \n",
      "2114            7.4             0.360         0.30        0.587787  -2.603690   \n",
      "1128            8.4             0.635         0.36        0.693147  -2.419119   \n",
      "\n",
      "      free sulfur dioxide  total sulfur dioxide  density    pH  sulphates  \\\n",
      "3281             3.526361              4.094345  0.99492  3.34  -0.162519   \n",
      "2383             2.708050              3.610918  0.99730  3.35  -0.150823   \n",
      "2009             1.609438              2.772589  0.99720  3.15  -0.430783   \n",
      "2114             2.833213              3.178054  0.99419  3.24  -0.356675   \n",
      "1128             2.708050              4.007333  0.99745  3.31  -0.562119   \n",
      "\n",
      "      alcohol  quality  \n",
      "3281     11.4        6  \n",
      "2383     12.8        8  \n",
      "2009     11.0        8  \n",
      "2114     11.4        8  \n",
      "1128     10.4        4  \n",
      "      fixed acidity  volatile acidity  citric acid  residual sugar  chlorides  \\\n",
      "1340            7.5              0.52         0.16        0.641854  -2.465104   \n",
      "1601            9.9              0.35         0.38        0.405465  -2.847312   \n",
      "3549            6.8              0.64         0.00        0.993252  -2.095571   \n",
      "3575            7.7              0.57         0.21        0.405465  -2.673649   \n",
      "211            11.6              0.58         0.66        0.788457  -2.603690   \n",
      "\n",
      "      free sulfur dioxide  total sulfur dioxide  density    pH  sulphates  \\\n",
      "1340             2.484907              3.555348  0.99680  3.38  -0.478036   \n",
      "1601             3.433987              3.850148  0.99676  3.26  -0.198451   \n",
      "3549             2.708050              3.496508  0.99538  3.44  -0.462035   \n",
      "3575             1.386294              2.197225  0.99458  3.16  -0.616186   \n",
      "211              2.302585              3.850148  1.00080  3.25  -0.562119   \n",
      "\n",
      "      alcohol  quality  \n",
      "1340      9.5        7  \n",
      "1601     10.6        7  \n",
      "3549     11.3        6  \n",
      "3575      9.8        6  \n",
      "211       9.0        3  \n",
      "[2023-12-11 00:44:05,467: INFO: 203955527: Applying preprocessing object on training dataframe and testing dataframe.]\n",
      "[2023-12-11 00:44:05,490: INFO: 203955527: Splitted the data into test & training data]\n",
      "[2023-12-11 00:44:05,490: INFO: 203955527: Shape of the training data is : (2880, 12)]\n",
      "[2023-12-11 00:44:05,492: INFO: 203955527: Shape of the test data is : (720, 12)]\n",
      "(2880, 12)\n",
      "(720, 12)\n"
     ]
    },
    {
     "ename": "AttributeError",
     "evalue": "'DataTransformation' object has no attribute 'transforming'",
     "output_type": "error",
     "traceback": [
      "\u001b[1;31m---------------------------------------------------------------------------\u001b[0m",
      "\u001b[1;31mAttributeError\u001b[0m                            Traceback (most recent call last)",
      "Cell \u001b[1;32mIn[8], line 8\u001b[0m\n\u001b[0;32m      6\u001b[0m     data_transformation\u001b[38;5;241m.\u001b[39mtransforming()\n\u001b[0;32m      7\u001b[0m \u001b[38;5;28;01mexcept\u001b[39;00m \u001b[38;5;167;01mException\u001b[39;00m \u001b[38;5;28;01mas\u001b[39;00m e:\n\u001b[1;32m----> 8\u001b[0m     \u001b[38;5;28;01mraise\u001b[39;00m e\n",
      "Cell \u001b[1;32mIn[8], line 6\u001b[0m\n\u001b[0;32m      4\u001b[0m     data_transformation \u001b[38;5;241m=\u001b[39m DataTransformation(config\u001b[38;5;241m=\u001b[39mdata_transformation_config)\n\u001b[0;32m      5\u001b[0m     data_transformation\u001b[38;5;241m.\u001b[39mtrain_test_splitting()\n\u001b[1;32m----> 6\u001b[0m     \u001b[43mdata_transformation\u001b[49m\u001b[38;5;241;43m.\u001b[39;49m\u001b[43mtransforming\u001b[49m()\n\u001b[0;32m      7\u001b[0m \u001b[38;5;28;01mexcept\u001b[39;00m \u001b[38;5;167;01mException\u001b[39;00m \u001b[38;5;28;01mas\u001b[39;00m e:\n\u001b[0;32m      8\u001b[0m     \u001b[38;5;28;01mraise\u001b[39;00m e\n",
      "\u001b[1;31mAttributeError\u001b[0m: 'DataTransformation' object has no attribute 'transforming'"
     ]
    }
   ],
   "source": [
    "try:\n",
    "    config = ConfigurationManager()\n",
    "    data_transformation_config = config.get_data_transformation_config()\n",
    "    data_transformation = DataTransformation(config=data_transformation_config)\n",
    "    data_transformation.train_test_splitting()\n",
    "    data_transformation.transforming()\n",
    "except Exception as e:\n",
    "    raise e"
   ]
  },
  {
   "cell_type": "code",
   "execution_count": null,
   "metadata": {},
   "outputs": [],
   "source": [
    "data"
   ]
  }
 ],
 "metadata": {
  "kernelspec": {
   "display_name": "Python 3",
   "language": "python",
   "name": "python3"
  },
  "language_info": {
   "codemirror_mode": {
    "name": "ipython",
    "version": 3
   },
   "file_extension": ".py",
   "mimetype": "text/x-python",
   "name": "python",
   "nbconvert_exporter": "python",
   "pygments_lexer": "ipython3",
   "version": "3.9.0"
  }
 },
 "nbformat": 4,
 "nbformat_minor": 2
}
