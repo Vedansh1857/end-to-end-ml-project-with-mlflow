{
 "cells": [
  {
   "cell_type": "code",
   "execution_count": 1,
   "metadata": {},
   "outputs": [
    {
     "data": {
      "text/plain": [
       "'d:\\\\end-to-end-ml-project-with-mlflow\\\\research'"
      ]
     },
     "execution_count": 1,
     "metadata": {},
     "output_type": "execute_result"
    }
   ],
   "source": [
    "import os\n",
    "%pwd"
   ]
  },
  {
   "cell_type": "code",
   "execution_count": 2,
   "metadata": {},
   "outputs": [
    {
     "data": {
      "text/plain": [
       "'d:\\\\end-to-end-ml-project-with-mlflow'"
      ]
     },
     "execution_count": 2,
     "metadata": {},
     "output_type": "execute_result"
    }
   ],
   "source": [
    "os.chdir(\"../\")\n",
    "%pwd"
   ]
  },
  {
   "cell_type": "code",
   "execution_count": 3,
   "metadata": {},
   "outputs": [],
   "source": [
    "from dataclasses import dataclass\n",
    "from pathlib import Path\n",
    "\n",
    "@dataclass(frozen=True)\n",
    "class DataTransformationConfig():\n",
    "    root_dir:Path\n",
    "    data_path:Path"
   ]
  },
  {
   "cell_type": "code",
   "execution_count": 4,
   "metadata": {},
   "outputs": [],
   "source": [
    "from mlProject.constants import *\n",
    "from mlProject.utils.common import read_yaml, create_directories"
   ]
  },
  {
   "cell_type": "code",
   "execution_count": 5,
   "metadata": {},
   "outputs": [],
   "source": [
    "class ConfigurationManager():\n",
    "    def __init__(self,config_filepath=CONFIG_FILE_PATH,schema_filepath=SCHEMA_FILE_PATH,params_filepath=PARAMS_FILE_PATH):\n",
    "        self.config = read_yaml(config_filepath)\n",
    "        self.schema = read_yaml(schema_filepath)\n",
    "        self.params = read_yaml(params_filepath)\n",
    "\n",
    "        create_directories([self.config.artifacts_root])\n",
    "\n",
    "    def get_data_transformation_config(self) -> DataTransformationConfig:\n",
    "        config = self.config.data_transformation\n",
    "\n",
    "        create_directories([config.root_dir])\n",
    "\n",
    "        data_transformation_config = DataTransformationConfig(\n",
    "            root_dir=config.root_dir,\n",
    "            data_path=config.data_path\n",
    "        )\n",
    "\n",
    "        return data_transformation_config"
   ]
  },
  {
   "cell_type": "code",
   "execution_count": 6,
   "metadata": {},
   "outputs": [],
   "source": [
    "from mlProject import logger\n",
    "from sklearn.model_selection import train_test_split\n",
    "import os\n",
    "import pandas as pd\n",
    "import numpy as np\n",
    "from sklearn.impute import SimpleImputer\n",
    "from sklearn.pipeline import Pipeline\n",
    "from sklearn.preprocessing import StandardScaler"
   ]
  },
  {
   "cell_type": "code",
   "execution_count": 7,
   "metadata": {},
   "outputs": [],
   "source": [
    "class DataTransformation():\n",
    "    def __init__(self,config:DataTransformationConfig):\n",
    "        self.config = config\n",
    "\n",
    "    def train_test_splitting(self):\n",
    "        \n",
    "        data = pd.read_csv(self.config.data_path)\n",
    "\n",
    "        train, test = train_test_split(data,test_size=0.2,random_state=42)\n",
    "\n",
    "        num_pipeline= Pipeline(\n",
    "            steps=[\n",
    "            (\"imputer\",SimpleImputer(strategy=\"median\")),\n",
    "            (\"scaler\",StandardScaler())\n",
    "\n",
    "            ]\n",
    "        )\n",
    "\n",
    "        target_column_name=\"quality\"\n",
    "        numerical_columns = ['fixed acidity', 'volatile acidity', 'citric acid', 'residual sugar',\n",
    "            'chlorides', 'free sulfur dioxide', 'total sulfur dioxide', 'density',\n",
    "            'pH', 'sulphates', 'alcohol', 'quality']\n",
    "\n",
    "        input_feature_train_df=train.drop(columns=[target_column_name],axis=1)\n",
    "        target_feature_train_df=train[target_column_name]\n",
    "\n",
    "        input_feature_test_df=test.drop(columns=[target_column_name],axis=1)\n",
    "        target_feature_test_df=test[target_column_name]\n",
    "\n",
    "        logger.info(\n",
    "            f\"Applying preprocessing object on training dataframe and testing dataframe.\"\n",
    "        )\n",
    "\n",
    "        input_feature_train_arr=num_pipeline.fit_transform(input_feature_train_df)\n",
    "        input_feature_test_arr=num_pipeline.transform(input_feature_test_df)\n",
    "\n",
    "        train_arr = np.c_[input_feature_train_arr, np.array(target_feature_train_df)]\n",
    "        test_arr = np.c_[input_feature_test_arr, np.array(target_feature_test_df)]\n",
    "\n",
    "        train.to_csv(os.path.join(self.config.root_dir, \"train.csv\"),index=False,header=True)\n",
    "        test.to_csv(os.path.join(self.config.root_dir, \"test.csv\"),index=False,header=True)\n",
    "\n",
    "        logger.info(\"Splitted the data into test & training data\")\n",
    "        logger.info(f\"Shape of the training data is : {train.shape}\")\n",
    "        logger.info(f\"Shape of the test data is : {test.shape}\")\n",
    "\n",
    "        print(train.shape)\n",
    "        print(test.shape)\n",
    "\n",
    "        return(\n",
    "            train_arr,\n",
    "            test_arr,\n",
    "        )"
   ]
  },
  {
   "cell_type": "code",
   "execution_count": 8,
   "metadata": {},
   "outputs": [
    {
     "name": "stdout",
     "output_type": "stream",
     "text": [
      "[2023-12-04 14:26:59,894: INFO: common: yaml file: config\\config.yaml loaded successfully]\n",
      "[2023-12-04 14:26:59,902: INFO: common: yaml file: schema.yaml loaded successfully]\n",
      "[2023-12-04 14:26:59,902: INFO: common: yaml file: params.yaml loaded successfully]\n",
      "[2023-12-04 14:26:59,902: INFO: common: created directory at: artifacts]\n",
      "[2023-12-04 14:26:59,902: INFO: common: created directory at: artifacts/data_transformation]\n",
      "[2023-12-04 14:26:59,929: INFO: 3019443674: Applying preprocessing object on training dataframe and testing dataframe.]\n",
      "[2023-12-04 14:26:59,959: INFO: 3019443674: Splitted the data into test & training data]\n",
      "[2023-12-04 14:26:59,973: INFO: 3019443674: Shape of the training data is : (1279, 12)]\n",
      "[2023-12-04 14:26:59,985: INFO: 3019443674: Shape of the test data is : (320, 12)]\n",
      "(1279, 12)\n",
      "(320, 12)\n"
     ]
    }
   ],
   "source": [
    "try:\n",
    "    config = ConfigurationManager()\n",
    "    data_transformation_config = config.get_data_transformation_config()\n",
    "    data_transformation = DataTransformation(config=data_transformation_config)\n",
    "    data_transformation.train_test_splitting()\n",
    "except Exception as e:\n",
    "    raise e"
   ]
  },
  {
   "cell_type": "code",
   "execution_count": null,
   "metadata": {},
   "outputs": [],
   "source": []
  }
 ],
 "metadata": {
  "kernelspec": {
   "display_name": "Python 3",
   "language": "python",
   "name": "python3"
  },
  "language_info": {
   "codemirror_mode": {
    "name": "ipython",
    "version": 3
   },
   "file_extension": ".py",
   "mimetype": "text/x-python",
   "name": "python",
   "nbconvert_exporter": "python",
   "pygments_lexer": "ipython3",
   "version": "3.9.0"
  }
 },
 "nbformat": 4,
 "nbformat_minor": 2
}
