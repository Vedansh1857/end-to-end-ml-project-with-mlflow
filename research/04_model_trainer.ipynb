{
 "cells": [
  {
   "cell_type": "code",
   "execution_count": 1,
   "metadata": {},
   "outputs": [
    {
     "data": {
      "text/plain": [
       "'d:\\\\end-to-end-ml-project-with-mlflow\\\\research'"
      ]
     },
     "execution_count": 1,
     "metadata": {},
     "output_type": "execute_result"
    }
   ],
   "source": [
    "import os\n",
    "%pwd"
   ]
  },
  {
   "cell_type": "code",
   "execution_count": 2,
   "metadata": {},
   "outputs": [
    {
     "data": {
      "text/plain": [
       "'d:\\\\end-to-end-ml-project-with-mlflow'"
      ]
     },
     "execution_count": 2,
     "metadata": {},
     "output_type": "execute_result"
    }
   ],
   "source": [
    "os.chdir(\"../\")\n",
    "%pwd"
   ]
  },
  {
   "cell_type": "code",
   "execution_count": 3,
   "metadata": {},
   "outputs": [],
   "source": [
    "from dataclasses import dataclass\n",
    "from pathlib import Path\n",
    "\n",
    "\n",
    "@dataclass(frozen=True)\n",
    "class ModelTrainerConfig:\n",
    "    root_dir: Path\n",
    "    train_data_path: Path\n",
    "    test_data_path: Path\n",
    "    model_name: str\n",
    "    criterion: str\n",
    "    n_estimators: int\n",
    "    target_column: str"
   ]
  },
  {
   "cell_type": "code",
   "execution_count": 4,
   "metadata": {},
   "outputs": [],
   "source": [
    "from mlProject.constants import *\n",
    "from mlProject.utils.common import read_yaml, create_directories"
   ]
  },
  {
   "cell_type": "code",
   "execution_count": 5,
   "metadata": {},
   "outputs": [],
   "source": [
    "class ConfigurationManager:\n",
    "    def __init__(\n",
    "        self,\n",
    "        config_filepath = CONFIG_FILE_PATH,\n",
    "        params_filepath = PARAMS_FILE_PATH,\n",
    "        schema_filepath = SCHEMA_FILE_PATH):\n",
    "\n",
    "        self.config = read_yaml(config_filepath)\n",
    "        self.params = read_yaml(params_filepath)\n",
    "        self.schema = read_yaml(schema_filepath)\n",
    "\n",
    "        create_directories([self.config.artifacts_root])\n",
    "\n",
    "\n",
    "    def get_model_trainer_config(self) -> ModelTrainerConfig:\n",
    "        config = self.config.model_trainer\n",
    "        params = self.params.RandomForest\n",
    "        schema =  self.schema.TARGET_COLUMN\n",
    "\n",
    "        create_directories([config.root_dir])\n",
    "\n",
    "        model_trainer_config = ModelTrainerConfig(\n",
    "            root_dir=config.root_dir,\n",
    "            train_data_path = config.train_data_path,\n",
    "            test_data_path = config.test_data_path,\n",
    "            model_name = config.model_name,\n",
    "            criterion = params.criterion,\n",
    "            n_estimators = params.n_estimators,\n",
    "            target_column = schema.name\n",
    "            \n",
    "        )\n",
    "\n",
    "        return model_trainer_config\n",
    "    "
   ]
  },
  {
   "cell_type": "code",
   "execution_count": 6,
   "metadata": {},
   "outputs": [],
   "source": [
    "import os\n",
    "from mlProject import logger\n",
    "import joblib\n",
    "import pandas as pd\n",
    "from mlProject.components.data_transformation import DataTransformation\n",
    "from mlProject.config.configuration import ConfigurationManager\n",
    "from sklearn.ensemble import RandomForestClassifier"
   ]
  },
  {
   "cell_type": "code",
   "execution_count": 7,
   "metadata": {},
   "outputs": [],
   "source": [
    "class ModelTrainer:\n",
    "    def __init__(self, config: ModelTrainerConfig):\n",
    "        self.config = config\n",
    "\n",
    "    \n",
    "    def train(self):\n",
    "        train_data = pd.read_csv(self.config.train_data_path)\n",
    "        test_data = pd.read_csv(self.config.test_data_path)\n",
    "\n",
    "        # obj1 = ConfigurationManager()\n",
    "        cfg = ConfigurationManager().get_data_transformation_config()\n",
    "        # obj2 = DataTransformation(config=cfg)\n",
    "        train_arr,test_arr = DataTransformation(config=cfg).train_test_splitting()\n",
    "\n",
    "        x_train,y_train,x_test,y_test = (\n",
    "            train_arr[:,:-1],\n",
    "            train_arr[:,-1],\n",
    "            test_arr[:,:-1],\n",
    "            test_arr[:,-1]\n",
    "        )\n",
    "        print(x_train)\n",
    "        print(y_train)\n",
    "        print(x_test)\n",
    "        print(y_test)\n",
    "\n",
    "        # x_train = train_data.drop([self.config.target_column], axis=1)\n",
    "        # x_test = test_data.drop([self.config.target_column], axis=1)\n",
    "        # y_train = train_data[[self.config.target_column]]\n",
    "        # y_test = test_data[[self.config.target_column]]\n",
    "        \n",
    "        rfc = RandomForestClassifier(criterion=self.config.criterion, n_estimators=self.config.n_estimators, random_state=42)\n",
    "        rfc.fit(x_train,y_train)\n",
    "\n",
    "        joblib.dump(rfc,os.path.join(self.config.root_dir,self.config.model_name))"
   ]
  },
  {
   "cell_type": "code",
   "execution_count": 8,
   "metadata": {},
   "outputs": [
    {
     "name": "stdout",
     "output_type": "stream",
     "text": [
      "[2023-12-09 15:31:32,671: INFO: common: yaml file: config\\config.yaml loaded successfully]\n",
      "[2023-12-09 15:31:32,671: INFO: common: yaml file: params.yaml loaded successfully]\n",
      "[2023-12-09 15:31:32,678: INFO: common: yaml file: schema.yaml loaded successfully]\n",
      "[2023-12-09 15:31:32,678: INFO: common: created directory at: artifacts]\n",
      "[2023-12-09 15:31:32,686: INFO: common: created directory at: artifacts/model_trainer]\n"
     ]
    },
    {
     "name": "stdout",
     "output_type": "stream",
     "text": [
      "[2023-12-09 15:31:32,710: INFO: common: yaml file: config\\config.yaml loaded successfully]\n",
      "[2023-12-09 15:31:32,710: INFO: common: yaml file: params.yaml loaded successfully]\n",
      "[2023-12-09 15:31:32,721: INFO: common: yaml file: schema.yaml loaded successfully]\n",
      "[2023-12-09 15:31:32,721: INFO: common: created directory at: artifacts]\n",
      "[2023-12-09 15:31:32,721: INFO: common: created directory at: artifacts/data_transformation]\n",
      "[2023-12-09 15:31:32,759: INFO: data_transformation: Splitted the data into test & training data]\n",
      "[2023-12-09 15:31:32,759: INFO: data_transformation: Shape of the training data is : (1279, 12)]\n",
      "[2023-12-09 15:31:32,759: INFO: data_transformation: Shape of the test data is : (320, 12)]\n",
      "(1279, 12)\n",
      "(320, 12)\n",
      "[2023-12-09 15:31:32,769: INFO: data_transformation: Applying preprocessing object on training dataframe and testing dataframe.]\n",
      "[[ 0.21833164  0.88971201  0.19209222 ...  1.09349989  0.45822284\n",
      "   1.12317723]\n",
      " [-1.29016623 -1.78878251  0.65275338 ... -0.40043872 -0.40119696\n",
      "   1.40827174]\n",
      " [ 1.49475291 -0.78434707  1.01104539 ... -0.07566946  0.51551749\n",
      "  -0.58738978]\n",
      " ...\n",
      " [-0.65195559  0.49909822 -1.08752211 ...  1.28836145 -0.68767023\n",
      "  -0.87248428]\n",
      " [-0.24582155 -1.84458448  0.39683051 ...  0.05423824  0.80199076\n",
      "   1.40827174]\n",
      " [-1.46422367 -1.34236676 -0.06383064 ...  0.50891521 -0.68767023\n",
      "   2.92877575]]\n",
      "[6. 6. 6. ... 5. 7. 6.]\n",
      "[[-3.61859850e-01  1.64286407e-01 -9.85152962e-01 ... -4.65392578e-01\n",
      "  -1.34389336e-04 -7.77452782e-01]\n",
      " [-3.03840702e-01 -1.70525408e-01 -5.24491803e-01 ...  5.08915214e-01\n",
      "  -1.03143815e+00 -8.72484283e-01]\n",
      " [ 1.37871461e+00  7.78108067e-01 -2.68568937e-01 ... -2.05577167e-01\n",
      "   1.83329452e+00 -4.92358280e-01]\n",
      " ...\n",
      " [-1.37449586e-02  3.87494284e-01 -1.15015218e-01 ... -1.04997725e+00\n",
      "  -7.44964886e-01 -5.87389780e-01]\n",
      " [ 2.76350785e-01 -1.45397070e+00  6.01568807e-01 ... -1.04997725e+00\n",
      "   1.71749571e-01  7.43051230e-01]\n",
      " [ 4.50408230e-01  1.30822677e+00 -1.18989125e+00 ... -1.40623314e-01\n",
      "  -6.87670232e-01 -6.82421281e-01]]\n",
      "[6. 5. 6. 5. 6. 5. 5. 5. 5. 6. 7. 3. 5. 5. 6. 7. 5. 7. 8. 5. 5. 6. 5. 6.\n",
      " 6. 6. 7. 6. 5. 6. 5. 5. 6. 5. 6. 5. 7. 5. 4. 6. 5. 5. 7. 5. 5. 6. 7. 6.\n",
      " 5. 6. 5. 5. 5. 7. 6. 6. 6. 5. 5. 5. 5. 7. 5. 6. 6. 5. 6. 5. 6. 5. 6. 4.\n",
      " 6. 6. 6. 5. 8. 5. 6. 6. 5. 6. 5. 6. 6. 7. 5. 6. 7. 4. 7. 6. 5. 5. 5. 6.\n",
      " 5. 6. 5. 6. 5. 5. 5. 7. 6. 7. 6. 5. 6. 5. 8. 5. 6. 5. 6. 7. 6. 6. 5. 6.\n",
      " 6. 6. 6. 6. 6. 6. 7. 6. 5. 5. 6. 5. 5. 5. 6. 5. 5. 5. 5. 6. 7. 6. 8. 5.\n",
      " 5. 5. 6. 6. 6. 5. 6. 7. 6. 5. 6. 5. 5. 6. 6. 6. 7. 5. 7. 5. 5. 5. 6. 6.\n",
      " 5. 5. 6. 5. 7. 6. 7. 6. 6. 5. 5. 6. 4. 6. 5. 7. 5. 5. 4. 5. 7. 6. 5. 6.\n",
      " 6. 7. 6. 5. 5. 6. 5. 7. 5. 6. 6. 5. 7. 5. 5. 5. 6. 7. 7. 5. 5. 6. 6. 7.\n",
      " 6. 5. 6. 6. 6. 6. 6. 7. 4. 5. 5. 7. 5. 5. 5. 5. 6. 6. 5. 7. 5. 6. 6. 6.\n",
      " 5. 4. 6. 7. 6. 7. 5. 6. 6. 5. 5. 6. 5. 6. 4. 5. 6. 6. 5. 6. 6. 5. 5. 6.\n",
      " 7. 7. 6. 5. 6. 6. 5. 6. 5. 6. 5. 5. 5. 6. 6. 6. 7. 5. 5. 6. 5. 7. 5. 6.\n",
      " 4. 6. 6. 8. 6. 5. 5. 6. 5. 7. 6. 6. 5. 5. 7. 6. 6. 5. 6. 6. 5. 7. 6. 6.\n",
      " 6. 6. 5. 6. 5. 5. 6. 4.]\n"
     ]
    }
   ],
   "source": [
    "try:\n",
    "    config = ConfigurationManager()\n",
    "    model_trainer_config = config.get_model_trainer_config()\n",
    "    model_trainer = ModelTrainer(config=model_trainer_config)\n",
    "    model_trainer.train()\n",
    "except Exception as e:\n",
    "    raise e"
   ]
  },
  {
   "cell_type": "code",
   "execution_count": null,
   "metadata": {},
   "outputs": [],
   "source": []
  }
 ],
 "metadata": {
  "kernelspec": {
   "display_name": "Python 3",
   "language": "python",
   "name": "python3"
  },
  "language_info": {
   "codemirror_mode": {
    "name": "ipython",
    "version": 3
   },
   "file_extension": ".py",
   "mimetype": "text/x-python",
   "name": "python",
   "nbconvert_exporter": "python",
   "pygments_lexer": "ipython3",
   "version": "3.9.0"
  }
 },
 "nbformat": 4,
 "nbformat_minor": 2
}
