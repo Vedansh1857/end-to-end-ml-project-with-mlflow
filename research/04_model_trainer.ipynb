{
 "cells": [
  {
   "cell_type": "code",
   "execution_count": 1,
   "metadata": {},
   "outputs": [
    {
     "data": {
      "text/plain": [
       "'d:\\\\end-to-end-ml-project-with-mlflow\\\\research'"
      ]
     },
     "execution_count": 1,
     "metadata": {},
     "output_type": "execute_result"
    }
   ],
   "source": [
    "import os\n",
    "%pwd"
   ]
  },
  {
   "cell_type": "code",
   "execution_count": 2,
   "metadata": {},
   "outputs": [
    {
     "data": {
      "text/plain": [
       "'d:\\\\end-to-end-ml-project-with-mlflow'"
      ]
     },
     "execution_count": 2,
     "metadata": {},
     "output_type": "execute_result"
    }
   ],
   "source": [
    "os.chdir(\"../\")\n",
    "%pwd"
   ]
  },
  {
   "cell_type": "code",
   "execution_count": 3,
   "metadata": {},
   "outputs": [],
   "source": [
    "from dataclasses import dataclass\n",
    "from pathlib import Path\n",
    "\n",
    "\n",
    "@dataclass(frozen=True)\n",
    "class ModelTrainerConfig:\n",
    "    root_dir: Path\n",
    "    train_data_path: Path\n",
    "    test_data_path: Path\n",
    "    model_name: str\n",
    "    criterion: str\n",
    "    n_estimators: int\n",
    "    target_column: str"
   ]
  },
  {
   "cell_type": "code",
   "execution_count": 4,
   "metadata": {},
   "outputs": [],
   "source": [
    "from mlProject.constants import *\n",
    "from mlProject.utils.common import read_yaml, create_directories"
   ]
  },
  {
   "cell_type": "code",
   "execution_count": 5,
   "metadata": {},
   "outputs": [],
   "source": [
    "class ConfigurationManager:\n",
    "    def __init__(\n",
    "        self,\n",
    "        config_filepath = CONFIG_FILE_PATH,\n",
    "        params_filepath = PARAMS_FILE_PATH,\n",
    "        schema_filepath = SCHEMA_FILE_PATH):\n",
    "\n",
    "        self.config = read_yaml(config_filepath)\n",
    "        self.params = read_yaml(params_filepath)\n",
    "        self.schema = read_yaml(schema_filepath)\n",
    "\n",
    "        create_directories([self.config.artifacts_root])\n",
    "\n",
    "\n",
    "    def get_model_trainer_config(self) -> ModelTrainerConfig:\n",
    "        config = self.config.model_trainer\n",
    "        params = self.params.RandomForest\n",
    "        schema =  self.schema.TARGET_COLUMN\n",
    "\n",
    "        create_directories([config.root_dir])\n",
    "\n",
    "        model_trainer_config = ModelTrainerConfig(\n",
    "            root_dir=config.root_dir,\n",
    "            train_data_path = config.train_data_path,\n",
    "            test_data_path = config.test_data_path,\n",
    "            model_name = config.model_name,\n",
    "            criterion = params.criterion,\n",
    "            n_estimators = params.n_estimators,\n",
    "            target_column = schema.name\n",
    "            \n",
    "        )\n",
    "\n",
    "        return model_trainer_config\n",
    "    "
   ]
  },
  {
   "cell_type": "code",
   "execution_count": 6,
   "metadata": {},
   "outputs": [],
   "source": [
    "import os\n",
    "from mlProject import logger\n",
    "import joblib\n",
    "import pandas as pd\n",
    "from mlProject.components.data_transformation import DataTransformation\n",
    "from mlProject.config.configuration import ConfigurationManager\n",
    "from sklearn.ensemble import RandomForestClassifier"
   ]
  },
  {
   "cell_type": "code",
   "execution_count": 7,
   "metadata": {},
   "outputs": [],
   "source": [
    "class ModelTrainer:\n",
    "    def __init__(self, config: ModelTrainerConfig):\n",
    "        self.config = config\n",
    "\n",
    "    \n",
    "    def train(self):\n",
    "        train_data = pd.read_csv(self.config.train_data_path)\n",
    "        test_data = pd.read_csv(self.config.test_data_path)\n",
    "\n",
    "        # obj1 = ConfigurationManager()\n",
    "        cfg = ConfigurationManager().get_data_transformation_config()\n",
    "        # obj2 = DataTransformation(config=cfg)\n",
    "        train_arr,test_arr = DataTransformation(config=cfg).train_test_splitting()\n",
    "\n",
    "        x_train,y_train,x_test,y_test = (\n",
    "            train_arr[:,:-1],\n",
    "            train_arr[:,-1],\n",
    "            test_arr[:,:-1],\n",
    "            test_arr[:,-1]\n",
    "        )\n",
    "\n",
    "        # x_train = train_data.drop([self.config.target_column], axis=1)\n",
    "        # x_test = test_data.drop([self.config.target_column], axis=1)\n",
    "        # y_train = train_data[[self.config.target_column]]\n",
    "        # y_test = test_data[[self.config.target_column]]\n",
    "        \n",
    "        rfc = RandomForestClassifier(criterion=self.config.criterion, n_estimators=self.config.n_estimators, random_state=42)\n",
    "        rfc.fit(x_train,y_train)\n",
    "\n",
    "        joblib.dump(rfc,os.path.join(self.config.root_dir,self.config.model_name))"
   ]
  },
  {
   "cell_type": "code",
   "execution_count": 8,
   "metadata": {},
   "outputs": [
    {
     "name": "stdout",
     "output_type": "stream",
     "text": [
      "[2023-12-05 00:24:16,254: INFO: common: yaml file: config\\config.yaml loaded successfully]\n",
      "[2023-12-05 00:24:16,257: INFO: common: yaml file: params.yaml loaded successfully]\n",
      "[2023-12-05 00:24:16,257: INFO: common: yaml file: schema.yaml loaded successfully]\n",
      "[2023-12-05 00:24:16,257: INFO: common: created directory at: artifacts]\n",
      "[2023-12-05 00:24:16,257: INFO: common: created directory at: artifacts/model_trainer]\n",
      "[2023-12-05 00:24:16,278: INFO: common: yaml file: config\\config.yaml loaded successfully]\n",
      "[2023-12-05 00:24:16,278: INFO: common: yaml file: params.yaml loaded successfully]\n",
      "[2023-12-05 00:24:16,284: INFO: common: yaml file: schema.yaml loaded successfully]\n",
      "[2023-12-05 00:24:16,285: INFO: common: created directory at: artifacts]\n",
      "[2023-12-05 00:24:16,287: INFO: common: created directory at: artifacts/data_transformation]\n",
      "[2023-12-05 00:24:16,307: INFO: data_transformation: Splitted the data into test & training data]\n",
      "[2023-12-05 00:24:16,307: INFO: data_transformation: Shape of the training data is : (1279, 12)]\n",
      "[2023-12-05 00:24:16,307: INFO: data_transformation: Shape of the test data is : (320, 12)]\n",
      "(1279, 12)\n",
      "(320, 12)\n",
      "[2023-12-05 00:24:16,318: INFO: data_transformation: Applying preprocessing object on training dataframe and testing dataframe.]\n"
     ]
    }
   ],
   "source": [
    "try:\n",
    "    config = ConfigurationManager()\n",
    "    model_trainer_config = config.get_model_trainer_config()\n",
    "    model_trainer = ModelTrainer(config=model_trainer_config)\n",
    "    model_trainer.train()\n",
    "except Exception as e:\n",
    "    raise e"
   ]
  },
  {
   "cell_type": "code",
   "execution_count": null,
   "metadata": {},
   "outputs": [],
   "source": []
  }
 ],
 "metadata": {
  "kernelspec": {
   "display_name": "Python 3",
   "language": "python",
   "name": "python3"
  },
  "language_info": {
   "codemirror_mode": {
    "name": "ipython",
    "version": 3
   },
   "file_extension": ".py",
   "mimetype": "text/x-python",
   "name": "python",
   "nbconvert_exporter": "python",
   "pygments_lexer": "ipython3",
   "version": "3.9.0"
  }
 },
 "nbformat": 4,
 "nbformat_minor": 2
}
